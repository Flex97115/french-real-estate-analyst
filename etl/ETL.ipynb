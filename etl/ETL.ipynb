{
 "cells": [
  {
   "cell_type": "code",
   "execution_count": 38,
   "metadata": {
    "collapsed": true,
    "ExecuteTime": {
     "end_time": "2024-02-20T12:04:52.724561Z",
     "start_time": "2024-02-20T12:04:52.713767Z"
    }
   },
   "outputs": [],
   "source": [
    "import pandas as pd\n",
    "import re\n",
    "import os\n",
    "from datetime import datetime\n",
    "from urllib import request"
   ]
  },
  {
   "cell_type": "markdown",
   "source": [
    "### Récupération des fichiers CSV de l'état\n",
    "Les fichiers sont récupérés ici : https://files.data.gouv.fr/geo-dvf/latest/csv/\n"
   ],
   "metadata": {
    "collapsed": false
   }
  },
  {
   "cell_type": "code",
   "execution_count": 39,
   "outputs": [
    {
     "name": "stdout",
     "output_type": "stream",
     "text": [
      "Downloading 2018\n",
      "Downloading 2019\n",
      "Downloading 2020\n",
      "Downloading 2021\n",
      "Downloading 2022\n",
      "Downloading 2023\n"
     ]
    }
   ],
   "source": [
    "years = [2018, 2019, 2020, 2021, 2022, 2023]\n",
    "\n",
    "df = pd.DataFrame()\n",
    "\n",
    "for year in years:\n",
    "    print(f\"Downloading {year}\")\n",
    "    url = f\"https://files.data.gouv.fr/geo-dvf/latest/csv/{year}/full.csv.gz\"\n",
    "    year_df = pd.read_csv(url, compression='gzip', low_memory=False)\n",
    "    df = pd.concat([df, year_df])"
   ],
   "metadata": {
    "collapsed": false,
    "ExecuteTime": {
     "end_time": "2024-02-20T12:06:52.962719Z",
     "start_time": "2024-02-20T12:04:56.042178Z"
    }
   }
  },
  {
   "cell_type": "markdown",
   "source": [
    "### Nettoyage des données\n",
    "On va supprimer toutes les lignes qui ne sont pas utiles"
   ],
   "metadata": {
    "collapsed": false
   }
  },
  {
   "cell_type": "code",
   "execution_count": 40,
   "outputs": [],
   "source": [
    "cleaned_df = df.drop(['id_mutation','numero_disposition', 'id_parcelle', 'ancien_id_parcelle', 'numero_volume', 'code_commune', 'code_departement', 'ancien_code_commune', 'adresse_suffixe', 'ancien_nom_commune', 'nature_culture', 'nature_culture_speciale','nature_mutation', 'code_nature_culture_speciale', 'code_nature_culture','lot1_numero','lot1_surface_carrez','lot2_numero','lot2_surface_carrez','lot3_numero', 'lot3_surface_carrez','lot4_numero', 'lot4_surface_carrez', 'lot5_numero', 'lot5_surface_carrez'], axis=1)"
   ],
   "metadata": {
    "collapsed": false,
    "ExecuteTime": {
     "end_time": "2024-02-20T12:06:55.586305Z",
     "start_time": "2024-02-20T12:06:53.142046Z"
    }
   }
  },
  {
   "cell_type": "markdown",
   "source": [
    "### Renommer les colonnes\n",
    "Les colonnes doivent avoir le même nom que les colonnes dans la notice fournit ici : https://www.data.gouv.fr/fr/datasets/r/d573456c-76eb-4276-b91c-e6b9c89d6656"
   ],
   "metadata": {
    "collapsed": false
   }
  },
  {
   "cell_type": "code",
   "execution_count": 41,
   "outputs": [],
   "source": [
    "pdf_url = \"https://www.data.gouv.fr/fr/datasets/r/d573456c-76eb-4276-b91c-e6b9c89d6656\"\n",
    "request.urlretrieve(pdf_url, os.path.join(os.path.abspath('..'), 'ressources', 'notice_dvf.pdf'))\n",
    "\n",
    "\n",
    "cleaned_df['Date de mutation'] = pd.to_datetime(cleaned_df['date_mutation'])\n",
    "cleaned_df['Annee'] = cleaned_df['Date de mutation'].map(lambda x: x.year)\n",
    "cleaned_df['Jour'] = cleaned_df['Date de mutation'].map(lambda x: x.day)\n",
    "cleaned_df['Mois'] = cleaned_df['Date de mutation'].map(lambda x: x.month)\n",
    "cleaned_df['Column1'] = datetime.now()\n",
    "cleaned_df = cleaned_df.rename(columns={'valeur_fonciere': 'Valeur foncière', 'adresse_numero': 'N° de voie', 'adresse_nom_voie':'Voie', 'adresse_code_voie':'Code voie', 'code_postal': 'Code postal', 'nom_commune': 'Commune', 'nombre_lots': 'Nombre de lots', 'code_type_local': 'Code type local', 'type_local': 'Type local', 'surface_reelle_bati': 'Surface réelle bâti', 'nombre_pieces_principales': 'Nombre de pièces principales', 'surface_terrain': 'Surface terrain'})\n"
   ],
   "metadata": {
    "collapsed": false,
    "ExecuteTime": {
     "end_time": "2024-02-20T12:07:47.566282Z",
     "start_time": "2024-02-20T12:06:55.587673Z"
    }
   }
  },
  {
   "cell_type": "markdown",
   "source": [
    "### Harmonisation des données\n",
    "Rendre \"Commune\" plus simple à lire en mettant tout en majuscule, séparer l'arrondissement et le nom de commune"
   ],
   "metadata": {
    "collapsed": false
   }
  },
  {
   "cell_type": "code",
   "execution_count": 42,
   "outputs": [],
   "source": [
    "cleaned_df = cleaned_df.drop(['date_mutation'], axis=1)\n",
    "cleaned_df['Commune'] = cleaned_df['Commune'].str.upper()\n",
    "cleaned_df = cleaned_df[(cleaned_df['Type local'] == 'Maison') | (cleaned_df['Type local'] == 'Appartement')]"
   ],
   "metadata": {
    "collapsed": false,
    "ExecuteTime": {
     "end_time": "2024-02-20T12:07:54.411512Z",
     "start_time": "2024-02-20T12:07:47.566618Z"
    }
   }
  },
  {
   "cell_type": "code",
   "execution_count": 43,
   "outputs": [],
   "source": [
    "pattern = r\"(\\D+)\\s(\\d+(?:E|ER))\\sARRONDISSEMENT\"\n",
    "number_pattern = r\"(E|ER)$\"\n",
    "\n",
    "def extract_commune_arrondissement(texte):\n",
    "    match = re.match(pattern, texte)\n",
    "    if match:\n",
    "        return match.group(1).strip(), re.sub(number_pattern, \"\", match.group(2))\n",
    "    else:\n",
    "        return texte, None"
   ],
   "metadata": {
    "collapsed": false,
    "ExecuteTime": {
     "end_time": "2024-02-20T12:07:54.415049Z",
     "start_time": "2024-02-20T12:07:54.412427Z"
    }
   }
  },
  {
   "cell_type": "code",
   "execution_count": 44,
   "outputs": [],
   "source": [
    "cleaned_df[['Commune', 'Arrondissement']] = cleaned_df['Commune'].apply(\n",
    "    lambda x: extract_commune_arrondissement(x)\n",
    ").tolist()"
   ],
   "metadata": {
    "collapsed": false,
    "ExecuteTime": {
     "end_time": "2024-02-20T12:08:01.973158Z",
     "start_time": "2024-02-20T12:07:54.416189Z"
    }
   }
  },
  {
   "cell_type": "markdown",
   "source": [
    "### Sauvegarde des données"
   ],
   "metadata": {
    "collapsed": false
   }
  },
  {
   "cell_type": "code",
   "execution_count": 45,
   "outputs": [],
   "source": [
    "cleaned_df.to_csv(os.path.join(os.path.abspath('..'), 'ressources', 'french_real_estate_prices.csv'), index=False)"
   ],
   "metadata": {
    "collapsed": false,
    "ExecuteTime": {
     "end_time": "2024-02-20T12:08:45.243525Z",
     "start_time": "2024-02-20T12:08:01.973786Z"
    }
   }
  }
 ],
 "metadata": {
  "kernelspec": {
   "display_name": "Python 3",
   "language": "python",
   "name": "python3"
  },
  "language_info": {
   "codemirror_mode": {
    "name": "ipython",
    "version": 2
   },
   "file_extension": ".py",
   "mimetype": "text/x-python",
   "name": "python",
   "nbconvert_exporter": "python",
   "pygments_lexer": "ipython2",
   "version": "2.7.6"
  }
 },
 "nbformat": 4,
 "nbformat_minor": 0
}
